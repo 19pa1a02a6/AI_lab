{
  "nbformat": 4,
  "nbformat_minor": 0,
  "metadata": {
    "colab": {
      "name": "Untitled0.ipynb",
      "provenance": [],
      "authorship_tag": "ABX9TyOH4VIlsFwMtRM3j7nlJ7PI",
      "include_colab_link": true
    },
    "kernelspec": {
      "name": "python3",
      "display_name": "Python 3"
    }
  },
  "cells": [
    {
      "cell_type": "markdown",
      "metadata": {
        "id": "view-in-github",
        "colab_type": "text"
      },
      "source": [
        "<a href=\"https://colab.research.google.com/github/19pa1a02a6/AI_lab/blob/master/experimemt_1_numpy.ipynb\" target=\"_parent\"><img src=\"https://colab.research.google.com/assets/colab-badge.svg\" alt=\"Open In Colab\"/></a>"
      ]
    },
    {
      "cell_type": "markdown",
      "metadata": {
        "id": "xmyfoKDCPvPg",
        "colab_type": "text"
      },
      "source": [
        "# \"EXPERIMENT-1:NUMPY\""
      ]
    },
    {
      "cell_type": "markdown",
      "metadata": {
        "id": "BAky-Yc1yIWT",
        "colab_type": "text"
      },
      "source": [
        "1.numpy\n"
      ]
    },
    {
      "cell_type": "markdown",
      "metadata": {
        "id": "cQY8_FaAzkOQ",
        "colab_type": "text"
      },
      "source": [
        "a)different ways to create numpy arrays"
      ]
    },
    {
      "cell_type": "code",
      "metadata": {
        "id": "7sNw6F3QyjWE",
        "colab_type": "code",
        "colab": {
          "base_uri": "https://localhost:8080/",
          "height": 34
        },
        "outputId": "986cc639-e035-4b54-d8f8-82149d76f2e8"
      },
      "source": [
        "    import numpy as np\n",
        "    a = np.array([1,2,3])\n",
        "    print(a)"
      ],
      "execution_count": null,
      "outputs": [
        {
          "output_type": "stream",
          "text": [
            "[1 2 3]\n"
          ],
          "name": "stdout"
        }
      ]
    },
    {
      "cell_type": "code",
      "metadata": {
        "id": "sN2htQ2Y0wE8",
        "colab_type": "code",
        "colab": {
          "base_uri": "https://localhost:8080/",
          "height": 51
        },
        "outputId": "744eb698-ad97-427f-ace9-5464f477d9bd"
      },
      "source": [
        "a = np.array([[1,2,3],[98,99,100]])\n",
        "print(a)"
      ],
      "execution_count": null,
      "outputs": [
        {
          "output_type": "stream",
          "text": [
            "[[  1   2   3]\n",
            " [ 98  99 100]]\n"
          ],
          "name": "stdout"
        }
      ]
    },
    {
      "cell_type": "markdown",
      "metadata": {
        "id": "GPLvs0er1lay",
        "colab_type": "text"
      },
      "source": [
        "b)add , remove,modify elements in an array \n",
        "\n",
        "add:"
      ]
    },
    {
      "cell_type": "code",
      "metadata": {
        "id": "WMeNu4271zTc",
        "colab_type": "code",
        "colab": {
          "base_uri": "https://localhost:8080/",
          "height": 34
        },
        "outputId": "e4dd2e2c-aadb-48c1-da9f-ad179c3af8cf"
      },
      "source": [
        "a = np.array([1,2,3])\n",
        "b = np.append(a,[10,20,30])\n",
        "print(b)"
      ],
      "execution_count": null,
      "outputs": [
        {
          "output_type": "stream",
          "text": [
            "[ 1  2  3 10 20 30]\n"
          ],
          "name": "stdout"
        }
      ]
    },
    {
      "cell_type": "markdown",
      "metadata": {
        "id": "3PxM28ya2RaB",
        "colab_type": "text"
      },
      "source": [
        "remove:"
      ]
    },
    {
      "cell_type": "code",
      "metadata": {
        "id": "cmZurKAa2Tc6",
        "colab_type": "code",
        "colab": {
          "base_uri": "https://localhost:8080/",
          "height": 34
        },
        "outputId": "f17df6c5-8283-4f43-947e-ff66d06b92cf"
      },
      "source": [
        "c = np.delete(a,2)\n",
        "print(c)"
      ],
      "execution_count": null,
      "outputs": [
        {
          "output_type": "stream",
          "text": [
            "[1 2]\n"
          ],
          "name": "stdout"
        }
      ]
    },
    {
      "cell_type": "markdown",
      "metadata": {
        "id": "kltH3vUI2p9D",
        "colab_type": "text"
      },
      "source": [
        "modify:"
      ]
    },
    {
      "cell_type": "code",
      "metadata": {
        "id": "gbxBtDr12r2Y",
        "colab_type": "code",
        "colab": {
          "base_uri": "https://localhost:8080/",
          "height": 34
        },
        "outputId": "5ed73a62-c4ed-4975-8169-b2fdd065c78b"
      },
      "source": [
        "c[c<5]=-1\n",
        "print(c)"
      ],
      "execution_count": null,
      "outputs": [
        {
          "output_type": "stream",
          "text": [
            "[-1 -1]\n"
          ],
          "name": "stdout"
        }
      ]
    },
    {
      "cell_type": "markdown",
      "metadata": {
        "id": "_ioCH5Iq27Ix",
        "colab_type": "text"
      },
      "source": [
        "c)arithmetic operations on numpy arrays"
      ]
    },
    {
      "cell_type": "code",
      "metadata": {
        "id": "polhUhV_3FyA",
        "colab_type": "code",
        "colab": {
          "base_uri": "https://localhost:8080/",
          "height": 102
        },
        "outputId": "151bf274-abf1-444e-98f0-2fa00c517124"
      },
      "source": [
        "import numpy as np\n",
        "a = ([1,2,3])\n",
        "b = ([4,5,6])\n",
        "num_sum = np.add(a,b)\n",
        "num_diff = np.subtract(a,b)\n",
        "num_quo = np.divide(a,b)\n",
        "num_mod = np.mod(a,b)\n",
        "num_pow = np.power(a,b)\n",
        "print(num_sum)\n",
        "print(num_diff)\n",
        "print(num_quo)\n",
        "print(num_mod)\n",
        "print(num_pow)"
      ],
      "execution_count": null,
      "outputs": [
        {
          "output_type": "stream",
          "text": [
            "[5 7 9]\n",
            "[-3 -3 -3]\n",
            "[0.25 0.4  0.5 ]\n",
            "[1 2 3]\n",
            "[  1  32 729]\n"
          ],
          "name": "stdout"
        }
      ]
    },
    {
      "cell_type": "markdown",
      "metadata": {
        "id": "pYsRmtHd5YVY",
        "colab_type": "text"
      },
      "source": [
        "d)slicing and iterating of numpy arrays \n",
        "\n",
        "slicing:"
      ]
    },
    {
      "cell_type": "code",
      "metadata": {
        "id": "8ol3YeGV5o_E",
        "colab_type": "code",
        "colab": {
          "base_uri": "https://localhost:8080/",
          "height": 34
        },
        "outputId": "4f72cb42-5ff3-45f4-f8ce-20464780baf7"
      },
      "source": [
        "import numpy as np \n",
        "arr = np.array([1,2,3,4,5,6,7,8,9,10])\n",
        "print(arr[1:8])"
      ],
      "execution_count": null,
      "outputs": [
        {
          "output_type": "stream",
          "text": [
            "[2 3 4 5 6 7 8]\n"
          ],
          "name": "stdout"
        }
      ]
    },
    {
      "cell_type": "markdown",
      "metadata": {
        "id": "-pMmgRXt6Vdi",
        "colab_type": "text"
      },
      "source": [
        "iterating:"
      ]
    },
    {
      "cell_type": "code",
      "metadata": {
        "id": "3FF1R27G6Zv4",
        "colab_type": "code",
        "colab": {
          "base_uri": "https://localhost:8080/",
          "height": 187
        },
        "outputId": "e903b79e-81a4-452b-c86a-075fae7b5de2"
      },
      "source": [
        "for x in arr:\n",
        "  print(x)"
      ],
      "execution_count": null,
      "outputs": [
        {
          "output_type": "stream",
          "text": [
            "1\n",
            "2\n",
            "3\n",
            "4\n",
            "5\n",
            "6\n",
            "7\n",
            "8\n",
            "9\n",
            "10\n"
          ],
          "name": "stdout"
        }
      ]
    },
    {
      "cell_type": "markdown",
      "metadata": {
        "id": "AzlUcPuo6reo",
        "colab_type": "text"
      },
      "source": [
        "e)matrix operations on numpy arrays"
      ]
    },
    {
      "cell_type": "code",
      "metadata": {
        "id": "o6ecFOfx6y1a",
        "colab_type": "code",
        "colab": {
          "base_uri": "https://localhost:8080/",
          "height": 119
        },
        "outputId": "32f7ecb4-68bc-49c3-f8b8-d92478036b20"
      },
      "source": [
        "import numpy as np\n",
        "a = np.array([[1,2],[3,4]])\n",
        "b = np.array([[5,6],[7,8]])\n",
        "print(np.add(a,b))\n",
        "print(np.subtract(a,b))\n",
        "print(np.divide(a,b))"
      ],
      "execution_count": null,
      "outputs": [
        {
          "output_type": "stream",
          "text": [
            "[[ 6  8]\n",
            " [10 12]]\n",
            "[[-4 -4]\n",
            " [-4 -4]]\n",
            "[[0.2        0.33333333]\n",
            " [0.42857143 0.5       ]]\n"
          ],
          "name": "stdout"
        }
      ]
    }
  ]
}